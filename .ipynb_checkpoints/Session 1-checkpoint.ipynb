{
 "metadata": {
  "name": "",
  "signature": "sha256:25e44c0576b2d543cc316d01e33798564045b53457b819664cd333e714b423cd"
 },
 "nbformat": 3,
 "nbformat_minor": 0,
 "worksheets": [
  {
   "cells": [
    {
     "cell_type": "heading",
     "level": 1,
     "metadata": {},
     "source": [
      "Python Tutorial - Session 1"
     ]
    },
    {
     "cell_type": "heading",
     "level": 2,
     "metadata": {},
     "source": [
      "Agenda for this tutorial:"
     ]
    },
    {
     "cell_type": "markdown",
     "metadata": {},
     "source": [
      "1. Variables \n",
      "2. Data Types\n",
      "    1. Numbers\n",
      "    2. Strings\n",
      "    3. Lists\n",
      "    4. Dicts\n",
      "    5. Tuples\n",
      "3. Additional material\n",
      "    1. if/else\n",
      "    2. for loop\n",
      "    3. While loop\n",
      "    4. Mutability\n",
      "3. Examples\n",
      "5. Problem Sets"
     ]
    },
    {
     "cell_type": "heading",
     "level": 2,
     "metadata": {},
     "source": [
      "1. Variables"
     ]
    },
    {
     "cell_type": "markdown",
     "metadata": {},
     "source": [
      "* Variables are place holders for important values.\n",
      "* Can consist of letters, numbers and underscores. \n",
      "* Can start with an underscore or letter ."
     ]
    },
    {
     "cell_type": "code",
     "collapsed": false,
     "input": [
      "# example of valid variable names\n",
      "foo = 1.2\n",
      "bar123 = 'We want a shrubbery!'\n",
      "_foobar_ = 40\n",
      "\n",
      "print \"foo =\", foo, \"bar123 =\", bar123, \"_foobar_=\", _foobar_\n",
      "\n"
     ],
     "language": "python",
     "metadata": {},
     "outputs": []
    },
    {
     "cell_type": "code",
     "collapsed": false,
     "input": [
      "# example of invalid variable names\n",
      "# 1337 = 20\n",
      "# SyntaxError: can't assign to literal\n",
      "\n",
      "# 12man = 20\n",
      "# SyntaxError: invalid syntax\n",
      "\n",
      "\"\"\"\n",
      "Now try some variable names for yourselves. \n",
      "Assign the number 1.0 to it and see if its a legal name\n",
      "\"\"\"\n",
      "\n",
      "#Notice also that a single hash initiates a single line comment\n",
      "\"\"\"\n",
      "While a string of tripple quotes initiates a \n",
      "multiline comment that can span several lines.\n",
      "Adding a string of tripple comments will now\n",
      "end the comment\n",
      "\"\"\""
     ],
     "language": "python",
     "metadata": {},
     "outputs": []
    },
    {
     "cell_type": "heading",
     "level": 2,
     "metadata": {},
     "source": [
      "2. Data Types"
     ]
    },
    {
     "cell_type": "markdown",
     "metadata": {},
     "source": [
      "Python has several data types some of which I would like to discuss with you:\n",
      "1. Numbers\n",
      "2. String\n",
      "3. List\n",
      "4. Dictionary\n",
      "5. Tuples"
     ]
    },
    {
     "cell_type": "heading",
     "level": 3,
     "metadata": {},
     "source": [
      "2.1 Numbers"
     ]
    },
    {
     "cell_type": "code",
     "collapsed": false,
     "input": [
      "#This is a signed integer\n",
      "int_signed_1 = -10\n",
      "int_signed_2 = 10\n",
      "\n",
      "#This is a floating point number\n",
      "num_float = 2.123\n",
      "\n",
      "#This is a long integer\n",
      "int_long = 389472347L\n",
      "\n",
      "#This is a complex number\n",
      "comp = 1 + 2.12j\n",
      "\n",
      "#Operations on integers\n",
      "#Notice a peculiarity of python 2.x\n",
      "#Quotient rounded to the largest previous integer and no remainder \n",
      "print \"Quotient rounded to the largest previous integer \", int_signed_1 / 3, \",\",  int_signed_2 / 3"
     ],
     "language": "python",
     "metadata": {},
     "outputs": []
    },
    {
     "cell_type": "code",
     "collapsed": false,
     "input": [
      "#Quotient and remainder correctly printed\n",
      "print \"Quotient and remainder correctly printed \", int_signed_1 / 3.0, \",\",  int_signed_2 / 3.0\n"
     ],
     "language": "python",
     "metadata": {},
     "outputs": []
    },
    {
     "cell_type": "code",
     "collapsed": false,
     "input": [
      "#to get the normal division behaviour, specially in applications of scientific computing, it is advisable to add the following line\n",
      "from __future__ import division\n",
      "#This roughly translates to: import function divison from library __future__\n",
      "#Now let us try the division again\n",
      "int_signed_1 = -10\n",
      "int_signed_2 = 10\n",
      "print \"Divion works as expected now\", int_signed_1 / 3, \",\",  int_signed_2 / 3"
     ],
     "language": "python",
     "metadata": {},
     "outputs": []
    },
    {
     "cell_type": "code",
     "collapsed": false,
     "input": [
      "#Complex arithmatic\n",
      "print comp + comp"
     ],
     "language": "python",
     "metadata": {},
     "outputs": []
    },
    {
     "cell_type": "heading",
     "level": 3,
     "metadata": {},
     "source": [
      "2.2 Strings"
     ]
    },
    {
     "cell_type": "markdown",
     "metadata": {},
     "source": [
      "Strings are an important data type in python. In the course \"Text Mining for Social Sciences\" they wil play a very important role. So it would be worth your while to get comfortable with strings and basic string operations."
     ]
    },
    {
     "cell_type": "heading",
     "level": 4,
     "metadata": {},
     "source": [
      "String Assignment"
     ]
    },
    {
     "cell_type": "code",
     "collapsed": false,
     "input": [
      "#Assigning a string\n",
      "#Notice that strings may be assigned using either single quotation or doible quotation\n",
      "str1 = 'We want a shrubbery enclosed with single quotes'\n",
      "str2 = \"We want a shrubbery enclosed in double quotes\"\n",
      "\n",
      "#Using both quotation marks. Notice that the inner pair of quotation marks are treated as characters \n",
      "str3 = \"My name is 'Sir Lancelot' of Camelot\"\n",
      "print str3\n",
      "\n",
      "#str4 = \"Is this correct?'\n",
      "#print str4\n",
      "#As you will find out. Its not.\n",
      "#File \"<ipython-input-23-d466aa07f825>\", line 12\n",
      "#    str4 = \"Is this correct?'\n",
      "#                            ^\n",
      "#SyntaxError: EOL while scanning string literal\n"
     ],
     "language": "python",
     "metadata": {},
     "outputs": []
    },
    {
     "cell_type": "heading",
     "level": 4,
     "metadata": {},
     "source": [
      "Select characters and Slicing"
     ]
    },
    {
     "cell_type": "code",
     "collapsed": false,
     "input": [
      "#Some string operations\n",
      "holy_grenade = \"First shalt thou take out the Holy Pin.\"\n",
      "\n",
      "#Select 1st and 10th character. Python indexing starts from 0\n",
      "print(\"Selecting string characters\")\n",
      "print \"holy_grenade[0] =\", holy_grenade[0]\n",
      "print \"holy_grenade[9] =\", holy_grenade[9]\n",
      "print(\"\")\n",
      "\n"
     ],
     "language": "python",
     "metadata": {},
     "outputs": []
    },
    {
     "cell_type": "code",
     "collapsed": false,
     "input": [
      "#Slicing\n",
      "#Strings can be sliced using the notation my_string[start:stop]\n",
      "#This will select indices from start to stop - 1\n",
      "\n",
      "print(\"Slicing\")\n",
      "print \"holy_grenade[12:21] =\", holy_grenade[12:21]\n",
      "\n",
      "#Selecting the last character. Notice the use of slicing and the len function\n",
      "length = len(holy_grenade)\n",
      "print \"holy_grenade[length - 1] =\", holy_grenade[length - 1]\n",
      "print \"holy_grenade[-1] =\", holy_grenade[-1]\n",
      "\n",
      "#Print from the 1st to the 17th charater\n",
      "print \"holy_grenade[:17] =\", holy_grenade[:17]\n",
      "\n",
      "#Print from the 18th charater to the last\n",
      "print \"holy_grenade[17:] =\", holy_grenade[17:]\n",
      "\n",
      "#Print the last 5 chracters\n",
      "print \"holy_grenade[-5:] =\", holy_grenade[-5:]"
     ],
     "language": "python",
     "metadata": {},
     "outputs": []
    },
    {
     "cell_type": "heading",
     "level": 4,
     "metadata": {},
     "source": [
      "String Concatination"
     ]
    },
    {
     "cell_type": "code",
     "collapsed": false,
     "input": [
      "#Concatinating strings\n",
      "str1 = \"Four shalt thou not count, neither count thou two, excepting that thou then proceed to three.\"\n",
      "str2 = \" Five is right out.\"\n",
      "print \"Concatinating strings\"\n",
      "print \"str1 + str2 =\", str1 + str2\n"
     ],
     "language": "python",
     "metadata": {},
     "outputs": []
    },
    {
     "cell_type": "heading",
     "level": 4,
     "metadata": {},
     "source": [
      "String Class Methods"
     ]
    },
    {
     "cell_type": "code",
     "collapsed": false,
     "input": [
      "#Some string methods\n",
      "#Python provides some really cool string class methods \n",
      "#I'll provide some methods here that I have used while parsing strings\n",
      "#The complete list is available online\n",
      "\n",
      "#islower(), isupper(), lower(), upper()\n",
      "\n",
      "#islower() - Return True if all cased characters in S are lowercase and there is at least one cased character in S, False otherwise.\n",
      "castle = \"welcome, brave sir knight. welcome to the castle anthrax.\"\n",
      "name = \"CASTLE ANTHRAX!\"\n",
      "print \"castle.islower() - \",castle.islower()\n",
      "#isupper() - Return True if all cased characters in S are uppercase and there is at least one cased character in S, False otherwise\n",
      "print \"name.isupper() - \", name.isupper()\n",
      "\n",
      "#upper(), lower() coverts strings to these respective cases\n",
      "print \"castle.upper()  - \", castle.upper()\n",
      "print \"name.lower()- \", name.lower()\n",
      "print \"\"\n",
      "\n",
      "#strip() - removes leading and trailing white spaces. \n",
      "#use rstrip(), lstrip() to remove trailing or leading white space respectively \n",
      "str_white_space = \"     Yes... it's not a very good name, is it? Oh, but we are nice, and we'll attend to your every need.     \"\n",
      "print str_white_space\n",
      "print str_white_space.strip()\n",
      "print \"\"\n",
      "\n",
      "#split() will split string based on whitespace between characters. returns results in a list.\n",
      "#What is a list? More on them later.\n",
      "word_list = str_white_space.split()\n",
      "print \"word_list -\", word_list \n",
      "print \"\"\n",
      "\n",
      "#split based on other characters\n",
      "word_list = castle.split(\".\")\n",
      "print castle\n",
      "print \"word_list -\", word_list "
     ],
     "language": "python",
     "metadata": {},
     "outputs": []
    },
    {
     "cell_type": "heading",
     "level": 3,
     "metadata": {},
     "source": [
      "2.3 Lists"
     ]
    },
    {
     "cell_type": "markdown",
     "metadata": {},
     "source": [
      "Lists are some of the most frequently used data structures in Python.\n",
      "They are defined as a sequence of python objects separated by commas and encapsulated in square brackets.\n",
      "The cool thing about lists is that its members need not have the same data type."
     ]
    },
    {
     "cell_type": "heading",
     "level": 4,
     "metadata": {},
     "source": [
      "Define a List"
     ]
    },
    {
     "cell_type": "code",
     "collapsed": false,
     "input": [
      "#Defining a list\n",
      "my_list = ['1', 'a', 'Monty', 'Python', 'is', 'so', 'cool']\n",
      "\n",
      "#Inititate empty List\n",
      "empty_list1 = []\n",
      "empty_list2 = list()"
     ],
     "language": "python",
     "metadata": {},
     "outputs": []
    },
    {
     "cell_type": "heading",
     "level": 4,
     "metadata": {},
     "source": [
      "Access a list"
     ]
    },
    {
     "cell_type": "code",
     "collapsed": false,
     "input": [
      "#Access a list\n",
      "#Lists can be access the same way as strings.\n",
      "my_list = ['1', 'a', 'Monty', 'Python', 'is', 'so', 'cool']\n",
      "print \"Access lists\"\n",
      "print \"'Third list element' - \", my_list[2]\n",
      "\n",
      "#Slicing\n",
      "print \"'Last three elements' - \", my_list[-3:]"
     ],
     "language": "python",
     "metadata": {},
     "outputs": []
    },
    {
     "cell_type": "heading",
     "level": 4,
     "metadata": {},
     "source": [
      "Update a list"
     ]
    },
    {
     "cell_type": "code",
     "collapsed": false,
     "input": [
      "#Update a list\n",
      "my_list = ['1', 'a', 'Monty', 'Python', 'is', 'so', 'cool']\n",
      "print(\"\")\n",
      "print(\"Update lists\")\n",
      "print \"'Fourth element -'\", my_list[3]\n",
      "my_list[3] = \"Tiger\"\n",
      "print \"'New Fourth element -'\", my_list[3]"
     ],
     "language": "python",
     "metadata": {},
     "outputs": []
    },
    {
     "cell_type": "heading",
     "level": 4,
     "metadata": {},
     "source": [
      "Some interesting list operations"
     ]
    },
    {
     "cell_type": "code",
     "collapsed": false,
     "input": [
      "my_str1 = \"On second thought let's not go to Camelot\"\n",
      "my_str2 = \"It is a silly place\"\n",
      "my_list1 = my_str1.split()\n",
      "my_list2 = my_str2.split()\n",
      "\n",
      "my_list3 = my_list1 + my_list2\n",
      "\n",
      "print my_list1\n",
      "print my_list2\n",
      "print my_list3\n",
      "\n",
      "my_list1 = [1, \"and\"]\n",
      "my_list2 = my_list1 * 2\n",
      "print \"\"\n",
      "print my_list1\n",
      "print my_list2"
     ],
     "language": "python",
     "metadata": {},
     "outputs": []
    },
    {
     "cell_type": "heading",
     "level": 4,
     "metadata": {},
     "source": [
      "List Functions"
     ]
    },
    {
     "cell_type": "code",
     "collapsed": false,
     "input": [
      "my_str = \"On second thought let's not go to Camelot since it is a silly place\"\n",
      "my_list = my_str.split()\n",
      "print my_str\n",
      "print my_list\n",
      "print \"\"\n",
      "\n",
      "#Some python functions are as below\n",
      "#len - Return the number of items of a sequence or collection.\n",
      "print \"Length of my_list is \", len(my_list)\n",
      "\n",
      "#cmp(x, y) - Return negative if x<y, zero if x==y, positive if x>y\n",
      "list1 = [\"list2\", \"Are\", \"we\", \"equal\", \"?\"]\n",
      "list2 = [\"No\", \"we're\", \"not\"]\n",
      "print \"cmp(list1, list2) -\", cmp(list1, list2)"
     ],
     "language": "python",
     "metadata": {},
     "outputs": []
    },
    {
     "cell_type": "heading",
     "level": 4,
     "metadata": {},
     "source": [
      "List Methods"
     ]
    },
    {
     "cell_type": "code",
     "collapsed": false,
     "input": [
      "my_list = [1, \"what\", \"a\", \"sight!\"]\n",
      "\n",
      "#list.append(obj) - add object obj to the end of list\n",
      "my_list.append([\"it\", \"is\"])\n",
      "print \"appended list -\", my_list\n",
      "\n",
      "#list.insert(index, obj) - Inserts object obj into list at offset index\n",
      "print \"\"\n",
      "my_list.insert(2, \"King Arthur!\")\n",
      "print \"new element inserted\", my_list\n",
      "\n",
      "\n",
      "#list.pop() Removes and returns last objectfrom list\n",
      "print \"\"\n",
      "print \"pop operation -\",my_list.pop()\n",
      "print \"my_list -\",my_list\n",
      "\n",
      "\n",
      "#list.remove(obj) Removes obj from list\n",
      "obj2 = my_list[2]\n",
      "my_list.remove(obj2)\n",
      "print \"\"\n",
      "print \"Object removed -\", obj2\n",
      "print \"my_list -\", my_list\n",
      "\n",
      "#list.reverse() Reverses objects of list in place\n",
      "print \"\"\n",
      "print \"my_list -\", my_list\n",
      "my_list.reverse()\n",
      "print \"reversed list -\",my_list \n",
      "\n",
      "#list.sort()\n",
      "print \"\"\n",
      "print \"my_list -\", my_list\n",
      "my_list.sort()\n",
      "print \"sorted list -\",my_list "
     ],
     "language": "python",
     "metadata": {},
     "outputs": []
    },
    {
     "cell_type": "heading",
     "level": 4,
     "metadata": {},
     "source": [
      "List Comprehensions"
     ]
    },
    {
     "cell_type": "heading",
     "level": 5,
     "metadata": {},
     "source": [
      "A little background on if statements"
     ]
    },
    {
     "cell_type": "code",
     "collapsed": false,
     "input": [
      "#boolean variable to set up cow launcher flag\n",
      "cow_launcher_ready = True\n",
      "if cow_launcher_ready:\n",
      "    print \"Launch the cow!\"\n",
      "else:\n",
      "    print \"Halt! Need more gas build up!\""
     ],
     "language": "python",
     "metadata": {},
     "outputs": [
      {
       "output_type": "stream",
       "stream": "stdout",
       "text": [
        "Launch the cow!\n"
       ]
      }
     ],
     "prompt_number": 98
    },
    {
     "cell_type": "markdown",
     "metadata": {},
     "source": [
      "A few observtions:\n",
      "1. the condition to be tested does not need to be enclosed in parenthesis.\n",
      "2. the \"if\" and \"else\" statements end with a \":\".\n",
      "3. Notice the indentation after the if and else. Oython used indentations to group statemenst logically. Not having consistent information will lead to errors"
     ]
    },
    {
     "cell_type": "heading",
     "level": 5,
     "metadata": {},
     "source": [
      "A little background on for statements"
     ]
    },
    {
     "cell_type": "code",
     "collapsed": false,
     "input": [
      "#range(stop) -> list of integers\n",
      "#range(start, stop[, step]) -> list of integers\n",
      "#Return a list containing an arithmetic progression of integers.\n",
      "print range(5)\n",
      "print range(1, 9, 2)\n",
      "\n",
      "#back to for\n",
      "print \"\"\n",
      "for index in range(5):\n",
      "    print index"
     ],
     "language": "python",
     "metadata": {},
     "outputs": [
      {
       "output_type": "stream",
       "stream": "stdout",
       "text": [
        "[0, 1, 2, 3, 4]\n",
        "[1, 3, 5, 7]\n",
        "\n",
        "0\n",
        "1\n",
        "2\n",
        "3\n",
        "4\n"
       ]
      }
     ],
     "prompt_number": 103
    },
    {
     "cell_type": "code",
     "collapsed": false,
     "input": [
      "#Let us develop a little program with some tools we've seen and a few more.\n",
      "#The idea is that we have information about the gas buildup of our cow bombs\n",
      "#If our cows have enough gas then we declare they're ready to launch and store their status in a list\n",
      "gas_buildup = [10, 20, 34, 12, 98, 24, 45, 23]\n",
      "\n",
      "#How would we do it normally\n",
      "#First we create an empty list to store the outcome as a series of True or False\n",
      "cow_launcher_status1 = list()\n",
      "#Next we run a for loop to check if our cows have gas greater than 20. means that they are ready.\n",
      "#if yes we add them to out list as True or else we add false\n",
      "\n",
      "for gas_level in gas_buildup:\n",
      "    if gas_level > 20:\n",
      "        cow_launcher_status1.append(True)\n",
      "    else:\n",
      "        cow_launcher_status1.append(False)\n",
      "        \n",
      "print cow_launcher_status1"
     ],
     "language": "python",
     "metadata": {},
     "outputs": [
      {
       "output_type": "stream",
       "stream": "stdout",
       "text": [
        "[False, False, True, False, True, True, True, True]\n"
       ]
      }
     ],
     "prompt_number": 1
    },
    {
     "cell_type": "code",
     "collapsed": false,
     "input": [
      "#Now can we do this in one line? Yes sir\n",
      "#In comes the list comprehensions\n",
      "cow_launcher_status2 = [True if gas > 20 else False for gas in gas_buildup]\n",
      "print cow_launcher_status1\n",
      "\n",
      "#How I would read this list comprehension?\n",
      "#For every object gas in gas_buildup list,\n",
      "#If gas if is greater than 20 add True to the list cow_launcher_status2,\n",
      "#Else add False"
     ],
     "language": "python",
     "metadata": {},
     "outputs": [
      {
       "output_type": "stream",
       "stream": "stdout",
       "text": [
        "[False, False, True, False, True, True, True, True]\n"
       ]
      }
     ],
     "prompt_number": 17
    },
    {
     "cell_type": "code",
     "collapsed": false,
     "input": [
      "#Let us compare if the two are identical\n",
      "cmp(cow_launcher_status1, cow_launcher_status2)"
     ],
     "language": "python",
     "metadata": {},
     "outputs": [
      {
       "metadata": {},
       "output_type": "pyout",
       "prompt_number": 5,
       "text": [
        "0"
       ]
      }
     ],
     "prompt_number": 5
    },
    {
     "cell_type": "code",
     "collapsed": false,
     "input": [
      "# another example\n",
      "#I have a list of numbers. If the number is even I square it, if it is odd i cube it.\n",
      "number_list = range(10)\n",
      "squares_and_cubes = [x**2 if x % 2 == 0 else x**3 for x in number_list]\n",
      "print number_list\n",
      "print squares_and_cubes"
     ],
     "language": "python",
     "metadata": {},
     "outputs": [
      {
       "output_type": "stream",
       "stream": "stdout",
       "text": [
        "[0, 1, 2, 3, 4, 5, 6, 7, 8, 9]\n",
        "[0, 1, 4, 27, 16, 125, 36, 343, 64, 729]\n"
       ]
      }
     ],
     "prompt_number": 16
    },
    {
     "cell_type": "code",
     "collapsed": false,
     "input": [],
     "language": "python",
     "metadata": {},
     "outputs": []
    }
   ],
   "metadata": {}
  }
 ]
}