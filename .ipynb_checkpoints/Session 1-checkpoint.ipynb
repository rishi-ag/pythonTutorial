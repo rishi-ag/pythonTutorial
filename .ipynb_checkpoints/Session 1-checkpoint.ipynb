{
 "metadata": {
  "name": "",
  "signature": "sha256:2d216f9cff142e4699a020f9e6ac56f6ca0fd6ecd61af53c3ad5b068c80b9789"
 },
 "nbformat": 3,
 "nbformat_minor": 0,
 "worksheets": [
  {
   "cells": [
    {
     "cell_type": "heading",
     "level": 1,
     "metadata": {},
     "source": [
      "Python Tutorial - Session 1"
     ]
    },
    {
     "cell_type": "heading",
     "level": 2,
     "metadata": {},
     "source": [
      "Agenda for this tutorial:"
     ]
    },
    {
     "cell_type": "markdown",
     "metadata": {},
     "source": [
      "1. Variables \n",
      "2. Data Types\n",
      "3. Constructs\n",
      "  1. if/else\n",
      "  2. for loop\n",
      "  3. while loop\n",
      "4. Examples\n",
      "5. Problem Sets"
     ]
    },
    {
     "cell_type": "heading",
     "level": 2,
     "metadata": {},
     "source": [
      "1. Variables"
     ]
    },
    {
     "cell_type": "markdown",
     "metadata": {},
     "source": [
      "* Variables are place holders for important values.\n",
      "* Can consist of letters, numbers and underscores. \n",
      "* Can start with an underscore or letter ."
     ]
    },
    {
     "cell_type": "code",
     "collapsed": false,
     "input": [
      "# example of valid variable names\n",
      "foo = 1.2\n",
      "bar123 = 'We want a shrubbery!'\n",
      "_foobar_ = 40\n",
      "\n",
      "print \"foo =\", foo, \"bar123 =\", bar123, \"_foobar_=\", _foobar_\n",
      "\n"
     ],
     "language": "python",
     "metadata": {},
     "outputs": [
      {
       "output_type": "stream",
       "stream": "stdout",
       "text": [
        "foo = 1.2 bar123 = We want a shrubbery! _foobar_= 40\n"
       ]
      }
     ],
     "prompt_number": 20
    },
    {
     "cell_type": "code",
     "collapsed": false,
     "input": [
      "# example of invalid variable names\n",
      "# 1337 = 20\n",
      "# SyntaxError: can't assign to literal\n",
      "\n",
      "# 12man = 20\n",
      "# SyntaxError: invalid syntax\n",
      "\n",
      "\"\"\"\n",
      "Now try some variable names for yourselves. \n",
      "Assign the number 1.0 to it and see if its a legal name\n",
      "\"\"\"\n",
      "\n",
      "#Notice also that a single hash initiates a single line comment\n",
      "\"\"\"\n",
      "While a string of tripple quotes initiates a \n",
      "multiline comment that can span several lines.\n",
      "Adding a string of tripple comments will now\n",
      "end the comment\n",
      "\"\"\""
     ],
     "language": "python",
     "metadata": {},
     "outputs": [],
     "prompt_number": 4
    },
    {
     "cell_type": "heading",
     "level": 2,
     "metadata": {},
     "source": [
      "2. Data Types"
     ]
    },
    {
     "cell_type": "markdown",
     "metadata": {},
     "source": [
      "Python has several data types some of which I would like to discuss with you:\n",
      "1. Numbers\n",
      "2. String\n",
      "3. List\n",
      "4. Dictionary\n",
      "5. Tuples"
     ]
    },
    {
     "cell_type": "heading",
     "level": 3,
     "metadata": {},
     "source": [
      "2.1 Numbers"
     ]
    },
    {
     "cell_type": "code",
     "collapsed": false,
     "input": [
      "#This is a signed integer\n",
      "int_signed_1 = -10\n",
      "int_signed_2 = 10\n",
      "\n",
      "#This is a floating point number\n",
      "num_float = 2.123\n",
      "\n",
      "#This is a long integer\n",
      "int_long = 389472347L\n",
      "\n",
      "#This is a complex number\n",
      "comp = 1 + 2.12j\n",
      "\n",
      "#Operations on integers\n",
      "#Notice a peculiarity of python 2.x\n",
      "#Quotient rounded to the largest previous integer and no remainder \n",
      "print \"Quotient rounded to the largest previous integer \", int_signed_1 / 3, \",\",  int_signed_2 / 3"
     ],
     "language": "python",
     "metadata": {},
     "outputs": [
      {
       "output_type": "stream",
       "stream": "stdout",
       "text": [
        "Quotient rounded to the largest previous integer  -4 , 3\n"
       ]
      }
     ],
     "prompt_number": 16
    },
    {
     "cell_type": "code",
     "collapsed": false,
     "input": [
      "#Quotient and remainder correctly printed\n",
      "print \"Quotient and remainder correctly printed \", int_signed_1 / 3.0, \",\",  int_signed_2 / 3.0\n"
     ],
     "language": "python",
     "metadata": {},
     "outputs": [
      {
       "output_type": "stream",
       "stream": "stdout",
       "text": [
        "Quotient and remainder correctly printed  -3.33333333333 , 3.33333333333\n"
       ]
      }
     ],
     "prompt_number": 15
    },
    {
     "cell_type": "code",
     "collapsed": false,
     "input": [
      "#to get the normal division behaviour, specially in applications of scientific computing, it is advisable to add the following line\n",
      "from __future__ import division\n",
      "#This roughly translates to: import function divison from library __future__\n",
      "#Now let us try the division again\n",
      "int_signed_1 = -10\n",
      "int_signed_2 = 10\n",
      "print \"Divion works as expected now\", int_signed_1 / 3, \",\",  int_signed_2 / 3"
     ],
     "language": "python",
     "metadata": {},
     "outputs": [
      {
       "output_type": "stream",
       "stream": "stdout",
       "text": [
        " Divion works as expected now -3.33333333333 , 3.33333333333\n"
       ]
      }
     ],
     "prompt_number": 2
    },
    {
     "cell_type": "code",
     "collapsed": false,
     "input": [
      "#Complex arithmatic\n",
      "print comp + comp"
     ],
     "language": "python",
     "metadata": {},
     "outputs": [
      {
       "output_type": "stream",
       "stream": "stdout",
       "text": [
        "(2+4.24j)\n"
       ]
      }
     ],
     "prompt_number": 18
    },
    {
     "cell_type": "heading",
     "level": 3,
     "metadata": {},
     "source": [
      "2.2 Strings"
     ]
    },
    {
     "cell_type": "markdown",
     "metadata": {},
     "source": [
      "Strings are an important data type in python. In the course \"Text Mining for Social Sciences\" they wil play a very important role. So it would be worth your while to get comfortable with strings and basic string operations."
     ]
    },
    {
     "cell_type": "heading",
     "level": 4,
     "metadata": {},
     "source": [
      "String Assignment"
     ]
    },
    {
     "cell_type": "code",
     "collapsed": false,
     "input": [
      "#Assigning a string\n",
      "#Notice that strings may be assigned using either single quotation or doible quotation\n",
      "str1 = 'We want a shrubbery!'\n",
      "str2 = \"We want a shrubbery!\"\n",
      "\n",
      "print str1, str2\n",
      "\n",
      "#Using both quotation marks. Notice that the inner pair of quotation marks are treated as characters \n",
      "str3 = \"My name is 'Sir Lancelot' of Camelot\"\n",
      "print str3\n",
      "\n",
      "#str4 = \"Is this correct?'\n",
      "#print str4\n",
      "#As you will find out. Its not.\n",
      "#File \"<ipython-input-23-d466aa07f825>\", line 12\n",
      "#    str4 = \"Is this correct?'\n",
      "#                            ^\n",
      "#SyntaxError: EOL while scanning string literal\n"
     ],
     "language": "python",
     "metadata": {},
     "outputs": [
      {
       "output_type": "stream",
       "stream": "stdout",
       "text": [
        "'We want a shrubbery!' We want a shrubbery!\n",
        "'We want a shrubbery!' We want a shrubbery!\n",
        "My name is 'Sir Lancelot' of Camelot\n"
       ]
      }
     ],
     "prompt_number": 3
    },
    {
     "cell_type": "code",
     "collapsed": false,
     "input": [
      "#Some string operations\n",
      "holy_grenade = \"First shalt thou take out the Holy Pin.\"\n",
      "\n",
      "#Select 1st and 10th character. Python indexing starts from 0\n",
      "print(\"Selecting string characters\")\n",
      "print \"holy_grenade[0] =\", holy_grenade[0]\n",
      "print \"holy_grenade[9] =\", holy_grenade[9]\n",
      "print(\"\")\n",
      "#Slicing\n",
      "#Strings can be sliced using the notation my_string[start:stop]\n",
      "#This will select indices from start to stop - 1\n",
      "\n",
      "print(\"Slicing\")\n",
      "print \"holy_grenade[12:21] =\", holy_grenade[12:21]\n",
      "\n",
      "#Selecting the last character. Notice the use of slicing and the len function\n",
      "length = len(holy_grenade)\n",
      "print \"holy_grenade[length - 1] =\", holy_grenade[length - 1]\n",
      "print \"holy_grenade[-1] =\", holy_grenade[-1]\n",
      "\n",
      "#Print from the 1st to the 17th charater\n",
      "print \"holy_grenade[:17] =\", holy_grenade[:17]\n",
      "\n",
      "#Print from the 18th charater to the last\n",
      "print \"holy_grenade[17:] =\", holy_grenade[17:]\n",
      "\n",
      "#Print the last 5 chracters\n",
      "print \"holy_grenade[-5:] =\", holy_grenade[-5:]"
     ],
     "language": "python",
     "metadata": {},
     "outputs": [
      {
       "output_type": "stream",
       "stream": "stdout",
       "text": [
        "Selecting string characters\n",
        "holy_grenade[0] = F\n",
        "holy_grenade[9] = l\n",
        "\n",
        "Slicing\n",
        "holy_grenade[12:21] = thou take\n",
        "holy_grenade[length - 1] = .\n",
        "holy_grenade[-1] = .\n",
        "holy_grenade[:17] = First shalt thou \n",
        "holy_grenade[17:] = take out the Holy Pin.\n",
        "holy_grenade[-5:] =  Pin.\n",
        "holy_grenade[1:21:2] = is hl hutk\n"
       ]
      }
     ],
     "prompt_number": 58
    },
    {
     "cell_type": "code",
     "collapsed": false,
     "input": [
      "#Concatinating strings\n",
      "str1 = \"Four shalt thou not count, neither count thou two, excepting that thou then proceed to three.\"\n",
      "str2 = \" Five is right out.\"\n",
      "print \"Concatinating strings\"\n",
      "print \"str1 + str2 =\", str1 + str2\n"
     ],
     "language": "python",
     "metadata": {},
     "outputs": [
      {
       "output_type": "stream",
       "stream": "stdout",
       "text": [
        "Concatinating strings\n",
        "str1 + str2 = Four shalt thou not count, neither count thou two, excepting that thou then proceed to three. Five is right out.\n"
       ]
      }
     ],
     "prompt_number": 38
    },
    {
     "cell_type": "code",
     "collapsed": false,
     "input": [
      "#Some string methods\n",
      "#Python provides some really cool string class methods \n",
      "#I'll provide some methods here that I have used while parsing strings\n",
      "#The complete list is available online\n",
      "\n",
      "#islower(), isupper(), lower(), upper()\n",
      "\n",
      "#islower() - Return True if all cased characters in S are lowercase and there is at least one cased character in S, False otherwise.\n",
      "castle = \"welcome, brave sir knight. welcome to the castle anthrax.\"\n",
      "name = \"CASTLE ANTHRAX!\"\n",
      "print \"castle.islower() - \",castle.islower()\n",
      "#isupper() - Return True if all cased characters in S are uppercase and there is at least one cased character in S, False otherwise\n",
      "print \"name.isupper() - \", name.isupper()\n",
      "\n",
      "#upper(), lower() coverts strings to these respective cases\n",
      "print \"castle.upper()  - \", castle.upper()\n",
      "print \"name.lower()- \", name.lower()\n",
      "print \"\"\n",
      "\n",
      "#strip() - removes leading and trailing white spaces. \n",
      "#use rstrip(), lstrip() to remove trailing or leading white space respectively \n",
      "str_white_space = \"     Yes... it's not a very good name, is it? Oh, but we are nice, and we'll attend to your every need.     \"\n",
      "print str_white_space\n",
      "print str_white_space.strip()\n",
      "print \"\"\n",
      "\n",
      "#split() will split string based on whitespace between characters. returns results in a list.\n",
      "#What is a list? More on them later.\n",
      "word_list = str_white_space.split()\n",
      "print \"word_list -\", word_list \n",
      "print \"\"\n",
      "\n",
      "#split based on other characters\n",
      "word_list = castle.split(\".\")\n",
      "print castle\n",
      "print \"word_list -\", word_list "
     ],
     "language": "python",
     "metadata": {},
     "outputs": [
      {
       "output_type": "stream",
       "stream": "stdout",
       "text": [
        "castle.islower() -  True\n",
        "name.isupper() -  True\n",
        "castle.upper()  -  WELCOME, BRAVE SIR KNIGHT. WELCOME TO THE CASTLE ANTHRAX.\n",
        "name.lower()-  castle anthrax!\n",
        "\n",
        "len(castle) -  57\n",
        "     Yes... it's not a very good name, is it? Oh, but we are nice, and we'll attend to your every need.     \n",
        "Yes... it's not a very good name, is it? Oh, but we are nice, and we'll attend to your every need.\n",
        "\n",
        "word_list - ['Yes...', \"it's\", 'not', 'a', 'very', 'good', 'name,', 'is', 'it?', 'Oh,', 'but', 'we', 'are', 'nice,', 'and', \"we'll\", 'attend', 'to', 'your', 'every', 'need.']\n",
        "\n",
        "welcome, brave sir knight. welcome to the castle anthrax.\n",
        "word_list - ['welcome, brave sir knight', ' welcome to the castle anthrax', '']\n"
       ]
      }
     ],
     "prompt_number": 35
    },
    {
     "cell_type": "heading",
     "level": 3,
     "metadata": {},
     "source": [
      "2.3 Lists"
     ]
    },
    {
     "cell_type": "markdown",
     "metadata": {},
     "source": [
      "Lists are some of the most frequently used data structures in Python.\n",
      "They are defined as a sequence of python objects separated by commas and encapsulated in square brackets.\n",
      "The cool thing about lists is that its members need not have the same data type."
     ]
    },
    {
     "cell_type": "heading",
     "level": 4,
     "metadata": {},
     "source": [
      "Define a List"
     ]
    },
    {
     "cell_type": "code",
     "collapsed": false,
     "input": [
      "#Defining a list\n",
      "my_list = ['1', 'a', 'Monty', 'Python', 'is', 'so', 'cool']\n",
      "\n",
      "#Inititate empty List\n",
      "empty_list1 = []\n",
      "empty_list2 = list()"
     ],
     "language": "python",
     "metadata": {},
     "outputs": [
      {
       "output_type": "stream",
       "stream": "stdout",
       "text": [
        "Access lists\n",
        "'Third list element' -  Monty\n",
        "'Last three elements' -  ['is', 'so', 'cool']\n",
        "\n",
        "Update lists\n",
        "'Fourth element -' Python\n",
        "'New Fourth element -' Tiger\n"
       ]
      }
     ],
     "prompt_number": 60
    },
    {
     "cell_type": "heading",
     "level": 4,
     "metadata": {},
     "source": [
      "Access a list"
     ]
    },
    {
     "cell_type": "code",
     "collapsed": false,
     "input": [
      "#Access a list\n",
      "#Lists can be access the same way as strings.\n",
      "my_list = ['1', 'a', 'Monty', 'Python', 'is', 'so', 'cool']\n",
      "print \"Access lists\"\n",
      "print \"'Third list element' - \", my_list[2]\n",
      "\n",
      "#Slicing\n",
      "print \"'Last three elements' - \", my_list[-3:]"
     ],
     "language": "python",
     "metadata": {},
     "outputs": [
      {
       "output_type": "stream",
       "stream": "stdout",
       "text": [
        "Access lists\n",
        "'Third list element' -  Monty\n",
        "'Last three elements' -  ['is', 'so', 'cool']\n"
       ]
      }
     ],
     "prompt_number": 61
    },
    {
     "cell_type": "heading",
     "level": 4,
     "metadata": {},
     "source": [
      "Update a list"
     ]
    },
    {
     "cell_type": "code",
     "collapsed": false,
     "input": [
      "#Update a list\n",
      "my_list = ['1', 'a', 'Monty', 'Python', 'is', 'so', 'cool']\n",
      "print(\"\")\n",
      "print(\"Update lists\")\n",
      "print \"'Fourth element -'\", my_list[3]\n",
      "my_list[3] = \"Tiger\"\n",
      "print \"'New Fourth element -'\", my_list[3]"
     ],
     "language": "python",
     "metadata": {},
     "outputs": [
      {
       "output_type": "stream",
       "stream": "stdout",
       "text": [
        "\n",
        "Update lists\n",
        "'Fourth element -' Python\n",
        "'New Fourth element -' Tiger\n"
       ]
      }
     ],
     "prompt_number": 70
    },
    {
     "cell_type": "heading",
     "level": 4,
     "metadata": {},
     "source": [
      "Some interesting list operations"
     ]
    },
    {
     "cell_type": "code",
     "collapsed": false,
     "input": [
      "my_str1 = \"On second thought let's not go to Camelot\"\n",
      "my_str2 = \"It is a silly place\"\n",
      "my_list1 = my_str1.split()\n",
      "my_list2 = my_str2.split()\n",
      "\n",
      "my_list3 = my_list1 + my_list2\n",
      "\n",
      "print my_list1\n",
      "print my_list2\n",
      "print my_list3\n",
      "\n",
      "my_list1 = [1, \"and\"]\n",
      "my_list2 = my_list1 * 2\n",
      "print \"\"\n",
      "print my_list1\n",
      "print my_list2"
     ],
     "language": "python",
     "metadata": {},
     "outputs": [
      {
       "output_type": "stream",
       "stream": "stdout",
       "text": [
        "['On', 'second', 'thought', \"let's\", 'not', 'go', 'to', 'Camelot']\n",
        "['It', 'is', 'a', 'silly', 'place']\n",
        "['On', 'second', 'thought', \"let's\", 'not', 'go', 'to', 'Camelot', 'It', 'is', 'a', 'silly', 'place']\n",
        "\n",
        "[1, 'and']\n",
        "[1, 'and', 1, 'and']\n"
       ]
      }
     ],
     "prompt_number": 75
    },
    {
     "cell_type": "heading",
     "level": 4,
     "metadata": {},
     "source": [
      "List Functions"
     ]
    },
    {
     "cell_type": "code",
     "collapsed": false,
     "input": [
      "my_str = \"On second thought let's not go to Camelot since it is a silly place\"\n",
      "my_list = my_str.split()\n",
      "print my_str\n",
      "print my_list\n",
      "print \"\"\n",
      "\n",
      "#Some python functions are as below\n",
      "#len - Return the number of items of a sequence or collection.\n",
      "print \"Length of my_list is \", len(my_list)\n",
      "\n",
      "#cmp(x, y) - Return negative if x<y, zero if x==y, positive if x>y\n",
      "list1 = [\"list2\", \"Are\", \"we\", \"equal\", \"?\"]\n",
      "list2 = [\"No\", \"we're\", \"not\"]\n",
      "print \"cmp(list1, list2) -\", cmp(list1, list2)"
     ],
     "language": "python",
     "metadata": {},
     "outputs": [
      {
       "output_type": "stream",
       "stream": "stdout",
       "text": [
        "On second thought let's not go to Camelot since it is a silly place\n",
        "['On', 'second', 'thought', \"let's\", 'not', 'go', 'to', 'Camelot', 'since', 'it', 'is', 'a', 'silly', 'place']\n",
        "\n",
        "Length of my_list is  14\n",
        "cmp(list1, list2) - 1\n"
       ]
      },
      {
       "metadata": {},
       "output_type": "pyout",
       "prompt_number": 69,
       "text": [
        "1"
       ]
      }
     ],
     "prompt_number": 69
    },
    {
     "cell_type": "heading",
     "level": 4,
     "metadata": {},
     "source": [
      "List Methods"
     ]
    },
    {
     "cell_type": "code",
     "collapsed": false,
     "input": [
      "my_list = [1, \"what\", \"a\", \"sight!\"]\n",
      "\n",
      "#list.append(obj) - add object obj to the end of list\n",
      "my_list.append([\"it\", \"is\"])\n",
      "print \"appended list -\", my_list\n",
      "\n",
      "#list.insert(index, obj) - Inserts object obj into list at offset index\n",
      "print \"\"\n",
      "my_list.insert(2, \"King Arthur!\")\n",
      "print \"new element inserted\", my_list\n",
      "\n",
      "\n",
      "#list.pop() Removes and returns last objectfrom list\n",
      "print \"\"\n",
      "print \"pop operation -\",my_list.pop()\n",
      "print \"my_list -\",my_list\n",
      "\n",
      "\n",
      "#list.remove(obj) Removes obj from list\n",
      "obj2 = my_list[2]\n",
      "my_list.remove(obj2)\n",
      "print \"\"\n",
      "print \"Object removed -\", obj2\n",
      "print \"my_list -\", my_list\n",
      "\n",
      "#list.reverse() Reverses objects of list in place\n",
      "print \"\"\n",
      "print \"my_list -\", my_list\n",
      "my_list.reverse()\n",
      "print \"reversed list -\",my_list \n",
      "\n",
      "#list.sort()\n",
      "print \"\"\n",
      "print \"my_list -\", my_list\n",
      "my_list.sort()\n",
      "print \"sorted list -\",my_list "
     ],
     "language": "python",
     "metadata": {},
     "outputs": [
      {
       "output_type": "stream",
       "stream": "stdout",
       "text": [
        "appended list - [1, 'what', 'a', 'sight!', ['it', 'is']]\n",
        "\n",
        "new element inserted [1, 'what', 'King Arthur!', 'a', 'sight!', ['it', 'is']]\n",
        "\n",
        "pop operation - ['it', 'is']\n",
        "my_list - [1, 'what', 'King Arthur!', 'a', 'sight!']\n",
        "\n",
        "Object removed - King Arthur!\n",
        "my_list - [1, 'what', 'a', 'sight!']\n",
        "\n",
        "my_list - [1, 'what', 'a', 'sight!']\n",
        "reversed list - ['sight!', 'a', 'what', 1]\n",
        "\n",
        "my_list - ['sight!', 'a', 'what', 1]\n",
        "sorted list - [1, 'a', 'sight!', 'what']\n"
       ]
      }
     ],
     "prompt_number": 91
    },
    {
     "cell_type": "code",
     "collapsed": false,
     "input": [],
     "language": "python",
     "metadata": {},
     "outputs": [],
     "prompt_number": 88
    },
    {
     "cell_type": "code",
     "collapsed": false,
     "input": [],
     "language": "python",
     "metadata": {},
     "outputs": []
    }
   ],
   "metadata": {}
  }
 ]
}